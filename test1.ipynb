{
 "metadata": {
  "language_info": {
   "codemirror_mode": {
    "name": "ipython",
    "version": 3
   },
   "file_extension": ".py",
   "mimetype": "text/x-python",
   "name": "python",
   "nbconvert_exporter": "python",
   "pygments_lexer": "ipython3",
   "version": "3.7.7-final"
  },
  "orig_nbformat": 2,
  "kernelspec": {
   "name": "python37764bit3a41a8a918904e3c96b348ea112a304f",
   "display_name": "Python 3.7.7 64-bit"
  }
 },
 "nbformat": 4,
 "nbformat_minor": 2,
 "cells": [
  {
   "source": [
    "import pandas as pd\n",
    "from rake_nltk import Rake\n",
    "import numpy as np\n",
    "from sklearn.metrics.pairwise import cosine_similarity as cos\n",
    "from sklearn.feature_extraction.text import CountVectorizer as cv\n",
    "\n",
    "msg='dddsss'\n",
    "print('msg: ',msg)\n",
    "\n",
    "pd.set_option('display.max_columns', 100)\n",
    "df = pd.read_csv('https://query.data.world/s/uikepcpffyo2nhig52xxeevdialfl7')\n",
    "df.head()"
   ],
   "cell_type": "code",
   "metadata": {
    "tags": []
   },
   "execution_count": 1,
   "outputs": [
    {
     "output_type": "stream",
     "name": "stdout",
     "text": "msg:  dddsss\n"
    },
    {
     "output_type": "execute_result",
     "data": {
      "text/plain": "   Unnamed: 0                     Title  Year     Rated     Released  Runtime  \\\n0           1  The Shawshank Redemption  1994         R  14 Oct 1994  142 min   \n1           2             The Godfather  1972         R  24 Mar 1972  175 min   \n2           3    The Godfather: Part II  1974         R  20 Dec 1974  202 min   \n3           4           The Dark Knight  2008     PG-13  18 Jul 2008  152 min   \n4           5              12 Angry Men  1957  APPROVED  01 Apr 1957   96 min   \n\n                  Genre              Director  \\\n0          Crime, Drama        Frank Darabont   \n1          Crime, Drama  Francis Ford Coppola   \n2          Crime, Drama  Francis Ford Coppola   \n3  Action, Crime, Drama     Christopher Nolan   \n4          Crime, Drama          Sidney Lumet   \n\n                                              Writer  \\\n0  Stephen King (short story &quot;Rita Hayworth and S...   \n1  Mario Puzo (screenplay), Francis Ford Coppola ...   \n2  Francis Ford Coppola (screenplay), Mario Puzo ...   \n3  Jonathan Nolan (screenplay), Christopher Nolan...   \n4  Reginald Rose (story), Reginald Rose (screenplay)   \n\n                                              Actors  \\\n0  Tim Robbins, Morgan Freeman, Bob Gunton, Willi...   \n1  Marlon Brando, Al Pacino, James Caan, Richard ...   \n2  Al Pacino, Robert Duvall, Diane Keaton, Robert...   \n3  Christian Bale, Heath Ledger, Aaron Eckhart, M...   \n4  Martin Balsam, John Fiedler, Lee J. Cobb, E.G....   \n\n                                                Plot  \\\n0  Two imprisoned men bond over a number of years...   \n1  The aging patriarch of an organized crime dyna...   \n2  The early life and career of Vito Corleone in ...   \n3  When the menace known as the Joker emerges fro...   \n4  A jury holdout attempts to prevent a miscarria...   \n\n                                     Language  Country  \\\n0                                     English      USA   \n1                     English, Italian, Latin      USA   \n2  English, Italian, Spanish, Latin, Sicilian      USA   \n3                           English, Mandarin  USA, UK   \n4                                     English      USA   \n\n                                              Awards  \\\n0  Nominated for 7 Oscars. Another 19 wins &amp; 30 n...   \n1    Won 3 Oscars. Another 23 wins &amp; 27 nominations.   \n2    Won 6 Oscars. Another 10 wins &amp; 20 nominations.   \n3  Won 2 Oscars. Another 151 wins &amp; 153 nominations.   \n4  Nominated for 3 Oscars. Another 16 wins &amp; 8 no...   \n\n                                              Poster           Ratings.Source  \\\n0  https://images-na.ssl-images-amazon.com/images...  Internet Movie Database   \n1  https://images-na.ssl-images-amazon.com/images...  Internet Movie Database   \n2  https://images-na.ssl-images-amazon.com/images...  Internet Movie Database   \n3  https://images-na.ssl-images-amazon.com/images...  Internet Movie Database   \n4  https://images-na.ssl-images-amazon.com/images...  Internet Movie Database   \n\n  Ratings.Value  Metascore  imdbRating  imdbVotes     imdbID   Type  \\\n0        9.3/10       80.0         9.3  1,825,626  tt0111161  movie   \n1        9.2/10      100.0         9.2  1,243,444  tt0068646  movie   \n2        9.0/10       85.0         9.0    856,870  tt0071562  movie   \n3        9.0/10       82.0         9.0  1,802,351  tt0468569  movie   \n4        8.9/10       96.0         8.9    494,215  tt0050083  movie   \n\n   tomatoMeter  tomatoImage  tomatoRating  tomatoReviews  tomatoFresh  \\\n0          NaN          NaN           NaN            NaN          NaN   \n1          NaN          NaN           NaN            NaN          NaN   \n2          NaN          NaN           NaN            NaN          NaN   \n3          NaN          NaN           NaN            NaN          NaN   \n4          NaN          NaN           NaN            NaN          NaN   \n\n   tomatoRotten  tomatoConsensus  tomatoUserMeter  tomatoUserRating  \\\n0           NaN              NaN              NaN               NaN   \n1           NaN              NaN              NaN               NaN   \n2           NaN              NaN              NaN               NaN   \n3           NaN              NaN              NaN               NaN   \n4           NaN              NaN              NaN               NaN   \n\n   tomatoUserReviews                                          tomatoURL  \\\n0                NaN  http://www.rottentomatoes.com/m/shawshank_rede...   \n1                NaN         http://www.rottentomatoes.com/m/godfather/   \n2                NaN  http://www.rottentomatoes.com/m/godfather_part...   \n3                NaN   http://www.rottentomatoes.com/m/the_dark_knight/   \n4                NaN  http://www.rottentomatoes.com/m/1000013-12_ang...   \n\n           DVD     BoxOffice                       Production  \\\n0  27 Jan 1998           NaN                Columbia Pictures   \n1  09 Oct 2001           NaN               Paramount Pictures   \n2  24 May 2005           NaN               Paramount Pictures   \n3  09 Dec 2008  $533,316,061  Warner Bros. Pictures/Legendary   \n4  06 Mar 2001           NaN             Criterion Collection   \n\n                                             Website  Response  \n0                                                NaN      True  \n1                        http://www.thegodfather.com      True  \n2                       http://www.thegodfather.com/      True  \n3               http://thedarkknight.warnerbros.com/      True  \n4  http://www.criterion.com/films/27871-12-angry-men      True  ",
      "text/html": "<div>\n<style scoped>\n    .dataframe tbody tr th:only-of-type {\n        vertical-align: middle;\n    }\n\n    .dataframe tbody tr th {\n        vertical-align: top;\n    }\n\n    .dataframe thead th {\n        text-align: right;\n    }\n</style>\n<table border=\"1\" class=\"dataframe\">\n  <thead>\n    <tr style=\"text-align: right;\">\n      <th></th>\n      <th>Unnamed: 0</th>\n      <th>Title</th>\n      <th>Year</th>\n      <th>Rated</th>\n      <th>Released</th>\n      <th>Runtime</th>\n      <th>Genre</th>\n      <th>Director</th>\n      <th>Writer</th>\n      <th>Actors</th>\n      <th>Plot</th>\n      <th>Language</th>\n      <th>Country</th>\n      <th>Awards</th>\n      <th>Poster</th>\n      <th>Ratings.Source</th>\n      <th>Ratings.Value</th>\n      <th>Metascore</th>\n      <th>imdbRating</th>\n      <th>imdbVotes</th>\n      <th>imdbID</th>\n      <th>Type</th>\n      <th>tomatoMeter</th>\n      <th>tomatoImage</th>\n      <th>tomatoRating</th>\n      <th>tomatoReviews</th>\n      <th>tomatoFresh</th>\n      <th>tomatoRotten</th>\n      <th>tomatoConsensus</th>\n      <th>tomatoUserMeter</th>\n      <th>tomatoUserRating</th>\n      <th>tomatoUserReviews</th>\n      <th>tomatoURL</th>\n      <th>DVD</th>\n      <th>BoxOffice</th>\n      <th>Production</th>\n      <th>Website</th>\n      <th>Response</th>\n    </tr>\n  </thead>\n  <tbody>\n    <tr>\n      <th>0</th>\n      <td>1</td>\n      <td>The Shawshank Redemption</td>\n      <td>1994</td>\n      <td>R</td>\n      <td>14 Oct 1994</td>\n      <td>142 min</td>\n      <td>Crime, Drama</td>\n      <td>Frank Darabont</td>\n      <td>Stephen King (short story \"Rita Hayworth and S...</td>\n      <td>Tim Robbins, Morgan Freeman, Bob Gunton, Willi...</td>\n      <td>Two imprisoned men bond over a number of years...</td>\n      <td>English</td>\n      <td>USA</td>\n      <td>Nominated for 7 Oscars. Another 19 wins &amp; 30 n...</td>\n      <td>https://images-na.ssl-images-amazon.com/images...</td>\n      <td>Internet Movie Database</td>\n      <td>9.3/10</td>\n      <td>80.0</td>\n      <td>9.3</td>\n      <td>1,825,626</td>\n      <td>tt0111161</td>\n      <td>movie</td>\n      <td>NaN</td>\n      <td>NaN</td>\n      <td>NaN</td>\n      <td>NaN</td>\n      <td>NaN</td>\n      <td>NaN</td>\n      <td>NaN</td>\n      <td>NaN</td>\n      <td>NaN</td>\n      <td>NaN</td>\n      <td>http://www.rottentomatoes.com/m/shawshank_rede...</td>\n      <td>27 Jan 1998</td>\n      <td>NaN</td>\n      <td>Columbia Pictures</td>\n      <td>NaN</td>\n      <td>True</td>\n    </tr>\n    <tr>\n      <th>1</th>\n      <td>2</td>\n      <td>The Godfather</td>\n      <td>1972</td>\n      <td>R</td>\n      <td>24 Mar 1972</td>\n      <td>175 min</td>\n      <td>Crime, Drama</td>\n      <td>Francis Ford Coppola</td>\n      <td>Mario Puzo (screenplay), Francis Ford Coppola ...</td>\n      <td>Marlon Brando, Al Pacino, James Caan, Richard ...</td>\n      <td>The aging patriarch of an organized crime dyna...</td>\n      <td>English, Italian, Latin</td>\n      <td>USA</td>\n      <td>Won 3 Oscars. Another 23 wins &amp; 27 nominations.</td>\n      <td>https://images-na.ssl-images-amazon.com/images...</td>\n      <td>Internet Movie Database</td>\n      <td>9.2/10</td>\n      <td>100.0</td>\n      <td>9.2</td>\n      <td>1,243,444</td>\n      <td>tt0068646</td>\n      <td>movie</td>\n      <td>NaN</td>\n      <td>NaN</td>\n      <td>NaN</td>\n      <td>NaN</td>\n      <td>NaN</td>\n      <td>NaN</td>\n      <td>NaN</td>\n      <td>NaN</td>\n      <td>NaN</td>\n      <td>NaN</td>\n      <td>http://www.rottentomatoes.com/m/godfather/</td>\n      <td>09 Oct 2001</td>\n      <td>NaN</td>\n      <td>Paramount Pictures</td>\n      <td>http://www.thegodfather.com</td>\n      <td>True</td>\n    </tr>\n    <tr>\n      <th>2</th>\n      <td>3</td>\n      <td>The Godfather: Part II</td>\n      <td>1974</td>\n      <td>R</td>\n      <td>20 Dec 1974</td>\n      <td>202 min</td>\n      <td>Crime, Drama</td>\n      <td>Francis Ford Coppola</td>\n      <td>Francis Ford Coppola (screenplay), Mario Puzo ...</td>\n      <td>Al Pacino, Robert Duvall, Diane Keaton, Robert...</td>\n      <td>The early life and career of Vito Corleone in ...</td>\n      <td>English, Italian, Spanish, Latin, Sicilian</td>\n      <td>USA</td>\n      <td>Won 6 Oscars. Another 10 wins &amp; 20 nominations.</td>\n      <td>https://images-na.ssl-images-amazon.com/images...</td>\n      <td>Internet Movie Database</td>\n      <td>9.0/10</td>\n      <td>85.0</td>\n      <td>9.0</td>\n      <td>856,870</td>\n      <td>tt0071562</td>\n      <td>movie</td>\n      <td>NaN</td>\n      <td>NaN</td>\n      <td>NaN</td>\n      <td>NaN</td>\n      <td>NaN</td>\n      <td>NaN</td>\n      <td>NaN</td>\n      <td>NaN</td>\n      <td>NaN</td>\n      <td>NaN</td>\n      <td>http://www.rottentomatoes.com/m/godfather_part...</td>\n      <td>24 May 2005</td>\n      <td>NaN</td>\n      <td>Paramount Pictures</td>\n      <td>http://www.thegodfather.com/</td>\n      <td>True</td>\n    </tr>\n    <tr>\n      <th>3</th>\n      <td>4</td>\n      <td>The Dark Knight</td>\n      <td>2008</td>\n      <td>PG-13</td>\n      <td>18 Jul 2008</td>\n      <td>152 min</td>\n      <td>Action, Crime, Drama</td>\n      <td>Christopher Nolan</td>\n      <td>Jonathan Nolan (screenplay), Christopher Nolan...</td>\n      <td>Christian Bale, Heath Ledger, Aaron Eckhart, M...</td>\n      <td>When the menace known as the Joker emerges fro...</td>\n      <td>English, Mandarin</td>\n      <td>USA, UK</td>\n      <td>Won 2 Oscars. Another 151 wins &amp; 153 nominations.</td>\n      <td>https://images-na.ssl-images-amazon.com/images...</td>\n      <td>Internet Movie Database</td>\n      <td>9.0/10</td>\n      <td>82.0</td>\n      <td>9.0</td>\n      <td>1,802,351</td>\n      <td>tt0468569</td>\n      <td>movie</td>\n      <td>NaN</td>\n      <td>NaN</td>\n      <td>NaN</td>\n      <td>NaN</td>\n      <td>NaN</td>\n      <td>NaN</td>\n      <td>NaN</td>\n      <td>NaN</td>\n      <td>NaN</td>\n      <td>NaN</td>\n      <td>http://www.rottentomatoes.com/m/the_dark_knight/</td>\n      <td>09 Dec 2008</td>\n      <td>$533,316,061</td>\n      <td>Warner Bros. Pictures/Legendary</td>\n      <td>http://thedarkknight.warnerbros.com/</td>\n      <td>True</td>\n    </tr>\n    <tr>\n      <th>4</th>\n      <td>5</td>\n      <td>12 Angry Men</td>\n      <td>1957</td>\n      <td>APPROVED</td>\n      <td>01 Apr 1957</td>\n      <td>96 min</td>\n      <td>Crime, Drama</td>\n      <td>Sidney Lumet</td>\n      <td>Reginald Rose (story), Reginald Rose (screenplay)</td>\n      <td>Martin Balsam, John Fiedler, Lee J. Cobb, E.G....</td>\n      <td>A jury holdout attempts to prevent a miscarria...</td>\n      <td>English</td>\n      <td>USA</td>\n      <td>Nominated for 3 Oscars. Another 16 wins &amp; 8 no...</td>\n      <td>https://images-na.ssl-images-amazon.com/images...</td>\n      <td>Internet Movie Database</td>\n      <td>8.9/10</td>\n      <td>96.0</td>\n      <td>8.9</td>\n      <td>494,215</td>\n      <td>tt0050083</td>\n      <td>movie</td>\n      <td>NaN</td>\n      <td>NaN</td>\n      <td>NaN</td>\n      <td>NaN</td>\n      <td>NaN</td>\n      <td>NaN</td>\n      <td>NaN</td>\n      <td>NaN</td>\n      <td>NaN</td>\n      <td>NaN</td>\n      <td>http://www.rottentomatoes.com/m/1000013-12_ang...</td>\n      <td>06 Mar 2001</td>\n      <td>NaN</td>\n      <td>Criterion Collection</td>\n      <td>http://www.criterion.com/films/27871-12-angry-men</td>\n      <td>True</td>\n    </tr>\n  </tbody>\n</table>\n</div>"
     },
     "metadata": {},
     "execution_count": 1
    }
   ]
  },
  {
   "cell_type": "code",
   "execution_count": null,
   "metadata": {},
   "outputs": [],
   "source": [
    "df.shape"
   ]
  },
  {
   "cell_type": "code",
   "execution_count": null,
   "metadata": {},
   "outputs": [],
   "source": []
  }
 ]
}